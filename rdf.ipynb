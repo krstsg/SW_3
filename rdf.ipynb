{
 "cells": [
  {
   "cell_type": "code",
   "execution_count": 31,
   "metadata": {},
   "outputs": [],
   "source": [
    "import rdflib\n",
    "from rdflib import Graph, Namespace, URIRef, Literal, Bag, BNode\n",
    "from rdflib import RDF, RDFS, XSD, DC"
   ]
  },
  {
   "cell_type": "code",
   "execution_count": 32,
   "metadata": {},
   "outputs": [],
   "source": [
    "def write_to_file(string: str, path_name: str, encoding: str = 'UTF-8') -> None:\n",
    "    with open(path_name, 'w', encoding=encoding) as out:\n",
    "        out.write(string)"
   ]
  },
  {
   "cell_type": "code",
   "execution_count": 33,
   "metadata": {},
   "outputs": [],
   "source": [
    "SCH = Namespace('https://comfy.ua/schema#')"
   ]
  },
  {
   "cell_type": "code",
   "execution_count": 34,
   "metadata": {},
   "outputs": [],
   "source": [
    "g = Graph()\n",
    "\n",
    "g.bind('rdf', RDF)\n",
    "g.bind('dc', DC)\n",
    "g.bind('sch', SCH)\n",
    "g.bind('xsd', XSD)"
   ]
  },
  {
   "cell_type": "markdown",
   "metadata": {},
   "source": [
    "### Products"
   ]
  },
  {
   "cell_type": "code",
   "execution_count": 35,
   "metadata": {},
   "outputs": [],
   "source": [
    "product_list = [\n",
    "    URIRef('https://comfy.ua/ua/smartfon-samsung-galaxy-m33-5g-6-128gb-green-sm-m336bzggsek.html'),\n",
    "    URIRef('https://comfy.ua/ua/televizor-samsung-ue43bu8000uxua.html'),\n",
    "    URIRef('https://comfy.ua/ua/stiral-naja-mashina-whirlpool-wrbsb-6228-b-ua.html'),\n",
    "    URIRef('https://comfy.ua/ua/holodil-nik-samsung-rb38t676fb1-ua.html'),\n",
    "    URIRef('https://comfy.ua/ua/noutbuk-hp-250-g8-45s01es-silver.html')\n",
    "]"
   ]
  },
  {
   "cell_type": "code",
   "execution_count": 36,
   "metadata": {},
   "outputs": [],
   "source": [
    "def insert_item(g, item, product, name, rating, review_count, currency, price_new, price_old, discount):\n",
    "    \n",
    "    # Type \n",
    "    g.add((\n",
    "        item, \n",
    "        RDF.type,\n",
    "        SCH[product]\n",
    "    ))\n",
    "\n",
    "    # Name\n",
    "    g.add((\n",
    "        item,\n",
    "        DC['title'],\n",
    "        Literal(name, datatype=XSD['string'])\n",
    "    ))\n",
    "\n",
    "    # Rating\n",
    "    g.add((\n",
    "        item,\n",
    "        SCH['rating'],\n",
    "        Literal(rating, datatype=XSD['deciaml'])\n",
    "    ))\n",
    "\n",
    "    # Review count\n",
    "    g.add((\n",
    "        item,\n",
    "        SCH['review_count'],\n",
    "        Literal(review_count, datatype=XSD['integer'])\n",
    "    ))\n",
    "\n",
    "    # New price\n",
    "    g.add((\n",
    "        item,\n",
    "        SCH['price_new'],\n",
    "        Literal(price_new, datatype=XSD['deciaml'])\n",
    "    ))\n",
    "    \n",
    "    # New price\n",
    "    if price_old != None:\n",
    "        g.add((\n",
    "            item,\n",
    "            SCH['price_old'],\n",
    "            Literal(price_old, datatype=XSD['deciaml'])\n",
    "        ))\n",
    "    \n",
    "    # Currency\n",
    "    g.add((\n",
    "        item,\n",
    "        SCH['currency'],\n",
    "        Literal(currency, datatype=XSD['string'])\n",
    "    ))\n",
    "\n",
    "    # Discount\n",
    "    if discount != None:\n",
    "        g.add((\n",
    "            item,\n",
    "            SCH['discount'],\n",
    "            Literal(discount, datatype=XSD['string'])\n",
    "        ))"
   ]
  },
  {
   "cell_type": "code",
   "execution_count": 37,
   "metadata": {},
   "outputs": [],
   "source": [
    "insert_item(g, product_list[0], \"Smartphone\",\n",
    "    \"Смартфон Samsung Galaxy M33 5G 6/128Gb Green (SM-M336BZGGSEK)\",\n",
    "    4.8,\n",
    "    331,\n",
    "    \"₴\",\n",
    "    9.499, 8.499,\n",
    "    \"-11%\"\n",
    ")\n",
    "insert_item(g, product_list[1], \"TV\",\n",
    "    \"Телевізор Samsung UE43BU8000UXUA\",\n",
    "    4.7,\n",
    "    54,\n",
    "    \"₴\",\n",
    "    20.399, 18.999,\n",
    "    \"-7%\"\n",
    ")\n",
    "insert_item(g, product_list[2], \"Washing_machine\",\n",
    "    \"Пральна машина Whirlpool WRBSB 6228 B UA\",\n",
    "    4.9,\n",
    "    118,\n",
    "    \"₴\",\n",
    "    15.899, 13.555,\n",
    "    \"-15%\"\n",
    ")\n",
    "insert_item(g, product_list[3], \"Refrigerator\",\n",
    "    \"Холодильник Samsung RB38T676FB1/UA\",\n",
    "    4.9,\n",
    "    147,\n",
    "    \"₴\",\n",
    "    29.199, 26.499,\n",
    "    \"-9%\"\n",
    ")\n",
    "insert_item(g, product_list[4], \"Laptop\",\n",
    "    \"Ноутбук HP 250 G8 (45S01ES) Silver\",\n",
    "    4.7,\n",
    "    27,\n",
    "    \"₴\",\n",
    "    17.999, 13.999,\n",
    "    \"-22%\"\n",
    ")"
   ]
  },
  {
   "cell_type": "code",
   "execution_count": 38,
   "metadata": {},
   "outputs": [],
   "source": [
    "write_to_file(g.serialize(format='xml'), 'lab3.rdf')"
   ]
  }
 ],
 "metadata": {
  "kernelspec": {
   "display_name": "Python 3.9.13 64-bit",
   "language": "python",
   "name": "python3"
  },
  "language_info": {
   "codemirror_mode": {
    "name": "ipython",
    "version": 3
   },
   "file_extension": ".py",
   "mimetype": "text/x-python",
   "name": "python",
   "nbconvert_exporter": "python",
   "pygments_lexer": "ipython3",
   "version": "3.9.13"
  },
  "orig_nbformat": 4,
  "vscode": {
   "interpreter": {
    "hash": "dced6d19ca7d5e68fbec81575ed1d988021920b9aa5e810af87da6b2abc72fda"
   }
  }
 },
 "nbformat": 4,
 "nbformat_minor": 2
}
