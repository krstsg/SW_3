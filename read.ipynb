{
 "cells": [
  {
   "cell_type": "code",
   "execution_count": 1,
   "metadata": {},
   "outputs": [],
   "source": [
    "import rdflib\n",
    "from rdflib import Graph\n",
    "from pyshacl import validate"
   ]
  },
  {
   "cell_type": "code",
   "execution_count": 2,
   "metadata": {},
   "outputs": [
    {
     "data": {
      "text/plain": [
       "<Graph identifier=N977b16cd26454d34ada50ce16ff0801c (<class 'rdflib.graph.Graph'>)>"
      ]
     },
     "execution_count": 2,
     "metadata": {},
     "output_type": "execute_result"
    }
   ],
   "source": [
    "g = Graph()\n",
    "g.parse(\"lab3.rdf\")"
   ]
  },
  {
   "cell_type": "code",
   "execution_count": 3,
   "metadata": {},
   "outputs": [
    {
     "name": "stdout",
     "output_type": "stream",
     "text": [
      "Graph triplets:\n",
      "('https://comfy.ua/ua/smartfon-samsung-galaxy-m33-5g-6-128gb-green-sm-m336bzggsek.html', 'https://comfy.ua/schema#price_new', '9.499')\n",
      "('https://comfy.ua/ua/stiral-naja-mashina-whirlpool-wrbsb-6228-b-ua.html', 'https://comfy.ua/schema#review_count', '118')\n",
      "('https://comfy.ua/ua/smartfon-samsung-galaxy-m33-5g-6-128gb-green-sm-m336bzggsek.html', 'https://comfy.ua/schema#discount', '-11%')\n",
      "('https://comfy.ua/ua/televizor-samsung-ue43bu8000uxua.html', 'https://comfy.ua/schema#review_count', '54')\n",
      "('https://comfy.ua/ua/noutbuk-hp-250-g8-45s01es-silver.html', 'https://comfy.ua/schema#price_new', '17.999')\n",
      "('https://comfy.ua/ua/smartfon-samsung-galaxy-m33-5g-6-128gb-green-sm-m336bzggsek.html', 'http://purl.org/dc/elements/1.1/title', 'Смартфон Samsung Galaxy M33 5G 6/128Gb Green (SM-M336BZGGSEK)')\n",
      "('https://comfy.ua/ua/noutbuk-hp-250-g8-45s01es-silver.html', 'https://comfy.ua/schema#discount', '-22%')\n",
      "('https://comfy.ua/ua/noutbuk-hp-250-g8-45s01es-silver.html', 'https://comfy.ua/schema#price_old', '13.999')\n",
      "('https://comfy.ua/ua/smartfon-samsung-galaxy-m33-5g-6-128gb-green-sm-m336bzggsek.html', 'https://comfy.ua/schema#rating', '4.8')\n",
      "('https://comfy.ua/ua/holodil-nik-samsung-rb38t676fb1-ua.html', 'https://comfy.ua/schema#rating', '4.9')\n",
      "('https://comfy.ua/ua/noutbuk-hp-250-g8-45s01es-silver.html', 'http://www.w3.org/1999/02/22-rdf-syntax-ns#type', 'https://comfy.ua/schema#Laptop')\n",
      "('https://comfy.ua/ua/stiral-naja-mashina-whirlpool-wrbsb-6228-b-ua.html', 'https://comfy.ua/schema#rating', '4.9')\n",
      "('https://comfy.ua/ua/smartfon-samsung-galaxy-m33-5g-6-128gb-green-sm-m336bzggsek.html', 'https://comfy.ua/schema#price_old', '8.499')\n",
      "('https://comfy.ua/ua/holodil-nik-samsung-rb38t676fb1-ua.html', 'http://purl.org/dc/elements/1.1/title', 'Холодильник Samsung RB38T676FB1/UA')\n",
      "('https://comfy.ua/ua/holodil-nik-samsung-rb38t676fb1-ua.html', 'https://comfy.ua/schema#price_new', '29.199')\n",
      "('https://comfy.ua/ua/smartfon-samsung-galaxy-m33-5g-6-128gb-green-sm-m336bzggsek.html', 'https://comfy.ua/schema#review_count', '331')\n",
      "('https://comfy.ua/ua/holodil-nik-samsung-rb38t676fb1-ua.html', 'https://comfy.ua/schema#discount', '-9%')\n",
      "('https://comfy.ua/ua/televizor-samsung-ue43bu8000uxua.html', 'https://comfy.ua/schema#price_old', '18.999')\n",
      "('https://comfy.ua/ua/televizor-samsung-ue43bu8000uxua.html', 'http://purl.org/dc/elements/1.1/title', 'Телевізор Samsung UE43BU8000UXUA')\n",
      "('https://comfy.ua/ua/stiral-naja-mashina-whirlpool-wrbsb-6228-b-ua.html', 'https://comfy.ua/schema#discount', '-15%')\n",
      "('https://comfy.ua/ua/televizor-samsung-ue43bu8000uxua.html', 'https://comfy.ua/schema#discount', '-7%')\n",
      "('https://comfy.ua/ua/televizor-samsung-ue43bu8000uxua.html', 'http://www.w3.org/1999/02/22-rdf-syntax-ns#type', 'https://comfy.ua/schema#TV')\n",
      "('https://comfy.ua/ua/televizor-samsung-ue43bu8000uxua.html', 'https://comfy.ua/schema#currency', '₴')\n",
      "('https://comfy.ua/ua/stiral-naja-mashina-whirlpool-wrbsb-6228-b-ua.html', 'https://comfy.ua/schema#price_old', '13.555')\n",
      "('https://comfy.ua/ua/holodil-nik-samsung-rb38t676fb1-ua.html', 'https://comfy.ua/schema#review_count', '147')\n",
      "('https://comfy.ua/ua/noutbuk-hp-250-g8-45s01es-silver.html', 'https://comfy.ua/schema#review_count', '27')\n",
      "('https://comfy.ua/ua/stiral-naja-mashina-whirlpool-wrbsb-6228-b-ua.html', 'http://www.w3.org/1999/02/22-rdf-syntax-ns#type', 'https://comfy.ua/schema#Washing_machine')\n",
      "('https://comfy.ua/ua/noutbuk-hp-250-g8-45s01es-silver.html', 'https://comfy.ua/schema#currency', '₴')\n",
      "('https://comfy.ua/ua/holodil-nik-samsung-rb38t676fb1-ua.html', 'https://comfy.ua/schema#currency', '₴')\n",
      "('https://comfy.ua/ua/holodil-nik-samsung-rb38t676fb1-ua.html', 'http://www.w3.org/1999/02/22-rdf-syntax-ns#type', 'https://comfy.ua/schema#Refrigerator')\n",
      "('https://comfy.ua/ua/holodil-nik-samsung-rb38t676fb1-ua.html', 'https://comfy.ua/schema#price_old', '26.499')\n",
      "('https://comfy.ua/ua/smartfon-samsung-galaxy-m33-5g-6-128gb-green-sm-m336bzggsek.html', 'https://comfy.ua/schema#currency', '₴')\n",
      "('https://comfy.ua/ua/televizor-samsung-ue43bu8000uxua.html', 'https://comfy.ua/schema#price_new', '20.399')\n",
      "('https://comfy.ua/ua/televizor-samsung-ue43bu8000uxua.html', 'https://comfy.ua/schema#rating', '4.7')\n",
      "('https://comfy.ua/ua/stiral-naja-mashina-whirlpool-wrbsb-6228-b-ua.html', 'https://comfy.ua/schema#price_new', '15.899')\n",
      "('https://comfy.ua/ua/noutbuk-hp-250-g8-45s01es-silver.html', 'https://comfy.ua/schema#rating', '4.7')\n",
      "('https://comfy.ua/ua/noutbuk-hp-250-g8-45s01es-silver.html', 'http://purl.org/dc/elements/1.1/title', 'Ноутбук HP 250 G8 (45S01ES) Silver')\n",
      "('https://comfy.ua/ua/stiral-naja-mashina-whirlpool-wrbsb-6228-b-ua.html', 'https://comfy.ua/schema#currency', '₴')\n",
      "('https://comfy.ua/ua/smartfon-samsung-galaxy-m33-5g-6-128gb-green-sm-m336bzggsek.html', 'http://www.w3.org/1999/02/22-rdf-syntax-ns#type', 'https://comfy.ua/schema#Smartphone')\n",
      "('https://comfy.ua/ua/stiral-naja-mashina-whirlpool-wrbsb-6228-b-ua.html', 'http://purl.org/dc/elements/1.1/title', 'Пральна машина Whirlpool WRBSB 6228 B UA')\n"
     ]
    }
   ],
   "source": [
    "print(\"Graph triplets:\")\n",
    "for s, p, o in g:\n",
    "    print((str(s), str(p), str(o)))"
   ]
  },
  {
   "cell_type": "code",
   "execution_count": 4,
   "metadata": {},
   "outputs": [
    {
     "name": "stdout",
     "output_type": "stream",
     "text": [
      "Triplet count: 40\n"
     ]
    }
   ],
   "source": [
    "print(\"Triplet count:\", len(g))"
   ]
  },
  {
   "cell_type": "code",
   "execution_count": 6,
   "metadata": {},
   "outputs": [
    {
     "name": "stdout",
     "output_type": "stream",
     "text": [
      "Validation Report\n",
      "Conforms: True\n",
      "\n"
     ]
    }
   ],
   "source": [
    "res = validate(\"lab3.rdf\")\n",
    "conforms, results_graph, results_text = res\n",
    "print (results_text)"
   ]
  }
 ],
 "metadata": {
  "kernelspec": {
   "display_name": "Python 3.9.13 64-bit",
   "language": "python",
   "name": "python3"
  },
  "language_info": {
   "codemirror_mode": {
    "name": "ipython",
    "version": 3
   },
   "file_extension": ".py",
   "mimetype": "text/x-python",
   "name": "python",
   "nbconvert_exporter": "python",
   "pygments_lexer": "ipython3",
   "version": "3.9.13"
  },
  "orig_nbformat": 4,
  "vscode": {
   "interpreter": {
    "hash": "dced6d19ca7d5e68fbec81575ed1d988021920b9aa5e810af87da6b2abc72fda"
   }
  }
 },
 "nbformat": 4,
 "nbformat_minor": 2
}
